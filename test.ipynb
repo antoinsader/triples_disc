{
 "cells": [
  {
   "cell_type": "code",
   "execution_count": 46,
   "metadata": {},
   "outputs": [],
   "source": [
    "from Data import PKLS_FILES, get_min_descriptionsNorm_triples_relations\n",
    "from utils.utils import read_cached_array\n",
    "import torch\n"
   ]
  },
  {
   "cell_type": "code",
   "execution_count": null,
   "metadata": {},
   "outputs": [],
   "source": [
    "k = 10\n",
    "descs, triples, relations, aliases = get_min_descriptionsNorm_triples_relations(k)"
   ]
  },
  {
   "cell_type": "code",
   "execution_count": 67,
   "metadata": {},
   "outputs": [
    {
     "data": {
      "text/plain": [
       "[('Q30',\n",
       "  \"The United States of America (USA), commonly known as the United States (U.S. or US) or America, is a country comprising 50 states, a federal district, five major self-governing territories, and various possessions. At 3.8 million sq mi (9.8 million km2), the United States is the world's third or fourth largest country by total area and is slightly smaller than the entire continent of Europe's 3.93 million sq mi (10.2 million km2). With a population of more than 327 million people, the U.S. is the third most populous country. Most of the country is located contiguously in North America between Canada and Mexico. The extremely diverse geography, climate, and wildlife of the United States make it one of the world's 17 megadiverse countries.Paleo-indians migrated from Siberia to the North American mainland at least 12,000 years ago. European colonization began in the 16th century. The United States emerged from the thirteen British colonies established along the East Coast. Following the French and indian War, numerous disputes between Great Britain and the colonies led to the American Revolution, which began in 1775, and the subsequent Declaration of independence in 1776. The war ended in 1783 with the United States becoming the first country to gain independence from a European power. The current constitution was adopted in 1788, with the first ten amendments, collectively named the Bill of Rights, being ratified in 1791 to guarantee many fundamental civil liberties. The United States embarked on a vigorous expansion across North America throughout the 19th century, acquiring new territories, displacing Native American tribes, and gradually admitting new states until it spanned the continent by 1848.During the second half of the 19th century, the Civil War led to the abolition of slavery. By the end of the century, the United States had extended into the Pacific Ocean, and its economy, driven in large part by the industrial Revolution, began to soar. The Spanish–American War and World War i confirmed the country's status as a global military power. The United States emerged from World War ii as a global superpower and a permanent member of the United Nations Security Council. The end of the Cold War and the collapse of the Soviet Union in 1991 left the United States as the world's sole superpower.The United States is a federal republic and a representative democracy. it is a founding member of the United Nations, World Bank, international Monetary Fund, Organization of American States (OAS), and many other international organizations. The United States is a highly developed country, with the world's largest economy by nominal GDP and second-largest economy by PPP, accounting for approximately a quarter of global GDP. The U.S. economy is largely post-industrial, characterized by the dominance of services and knowledge-based activities, although the manufacturing sector remains the second-largest in the world. The United States is the world's largest importer and the second largest exporter of goods, by value. Although its population is only 4.3% of the world total, the U.S. holds 31% of the total wealth in the world, the largest share of global wealth concentrated in a single country.Despite income and wealth disparities, the United States continues to rank very high in measures of socioeconomic performance, including average wage, human development, per capita GDP, and worker productivity. The United States is the foremost military power in the world, making up a third of global military spending, and is a leading political, cultural, and scientific force internationally.\"),\n",
       " ('Q7663716',\n",
       "  '\"System in Blue\" is a song by German music group Systems in Blue, released as promo single in 2005. it was produced by Rolf Kohler, Detlef Wiedeke and Thomas Widrat.it was re-released in 2009 by Akasa Records, containing an extended version produced by Talking System.'),\n",
       " ('Q851213',\n",
       "  'Electronic dance music (EDM), also known as dance music, club music, or simply dance, is a broad range of percussive electronic music genres made largely for nightclubs, raves and festivals. it is generally produced for playback by disc jockeys who create seamless selections of tracks, called a mix by segueing from one recording to another. EDM producers also perform their music live in a concert or festival setting in what is sometimes called a live PA. in Europe, EDM is more commonly called \\'dance music\\', or simply \\'dance\\'.in the late 1980s and early 1990s, following the emergence of raving, pirate radios and an upsurge of interest in club culture, EDM achieved widespread mainstream popularity in Europe. in the United States at that time, acceptance of dance culture was not universal; although both electro and Chicago house music were influential both in Europe and the United States, mainstream media outlets and the record industry remained openly hostile to it. There was also a perceived association between EDM and drug culture, which led governments at state and city level to enact laws and policies intended to halt the spread of rave culture.Subsequently, in the new millennium, the popularity of EDM increased globally, largely in Australia and the United States. By the early 2010s, the term \"electronic dance music\" and the initialism \"EDM\" was being pushed by the American music industry and music press in an effort to rebrand American rave culture. Despite the industry\\'s attempt to create a specific EDM brand, the initialism remains in use as an umbrella term for multiple genres, including house, techno, trance, drum and bass, dubstep, trap and footwork as well as their respective subgenres.'),\n",
       " ('Q16521',\n",
       "  'in biology, a taxon (plural taxa; back-formation from taxonomy) is a group of one or more populations of an organism or organisms seen by taxonomists to form a unit. Although neither is required, a taxon is usually known by a particular name and given a particular ranking, especially if and when it is accepted or becomes established. it is not uncommon, however, for taxonomists to remain at odds over what belongs to a taxon and the criteria used for inclusion. if a taxon is given a formal scientific name, its use is then governed by one of the nomenclature codes specifying which scientific name is correct for a particular grouping.initial attempts at classifying and ordering organisms (plants and animals) were set forth in Linnaeus\\'s system in Systema Naturae, 10th edition, (1758) as well as an unpublished work by Bernard and Antoine Laurent de Jussieu. The idea of a unit-based system of biological classification was first made widely available in 1805 in the introduction of Jean-Baptiste Lamarck\\'s Flore francoise, of Augustin Pyramus de Candolle\\'s Principes elementaires de botanique. Lamarck set out a system for the \"natural classification\" of plants. Since then, systematists continue to construct accurate classifications encompassing the diversity of life; today, a \"good\" or \"useful\" taxon is commonly taken to be one that reflects evolutionary relationships.Many modern systematists, such as advocates of phylogenetic nomenclature, use cladistic methods that require taxa to be monophyletic (all descendants of some ancestor). Their basic unit, therefore, is the clade rather than the taxon. Similarly, among those contemporary taxonomists working with the traditional Linnean (binomial) nomenclature, few propose taxa they know to be paraphyletic. An example of a well-established taxon that is not also a clade is the class Reptilia, the reptiles; birds are descendants of reptiles but are not included in the Reptilia.')]"
      ]
     },
     "execution_count": 67,
     "metadata": {},
     "output_type": "execute_result"
    }
   ],
   "source": [
    "list(descs.items())[0:4]"
   ]
  },
  {
   "cell_type": "code",
   "execution_count": 71,
   "metadata": {},
   "outputs": [
    {
     "data": {
      "text/plain": [
       "'Electronic dance music (EDM), also known as dance music, club music, or simply dance, is a broad range of percussive electronic music genres made largely for nightclubs, raves and festivals. it is generally produced for playback by disc jockeys who create seamless selections of tracks, called a mix by segueing from one recording to another. EDM producers also perform their music live in a concert or festival setting in what is sometimes called a live PA. in Europe, EDM is more commonly called \\'dance music\\', or simply \\'dance\\'.in the late 1980s and early 1990s, following the emergence of raving, pirate radios and an upsurge of interest in club culture, EDM achieved widespread mainstream popularity in Europe. in the United States at that time, acceptance of dance culture was not universal; although both electro and Chicago house music were influential both in Europe and the United States, mainstream media outlets and the record industry remained openly hostile to it. There was also a perceived association between EDM and drug culture, which led governments at state and city level to enact laws and policies intended to halt the spread of rave culture.Subsequently, in the new millennium, the popularity of EDM increased globally, largely in Australia and the United States. By the early 2010s, the term \"electronic dance music\" and the initialism \"EDM\" was being pushed by the American music industry and music press in an effort to rebrand American rave culture. Despite the industry\\'s attempt to create a specific EDM brand, the initialism remains in use as an umbrella term for multiple genres, including house, techno, trance, drum and bass, dubstep, trap and footwork as well as their respective subgenres.'"
      ]
     },
     "execution_count": 71,
     "metadata": {},
     "output_type": "execute_result"
    }
   ],
   "source": [
    "head = \"Q851213\"\n",
    "descs[head]"
   ]
  },
  {
   "cell_type": "code",
   "execution_count": 72,
   "metadata": {},
   "outputs": [
    {
     "name": "stdout",
     "output_type": "stream",
     "text": [
      "head description: Electronic dance music (EDM), also known as dance music, club music, or simply dance, is a broad range of percussive electronic music genres made largely for nightclubs, raves and festivals. it is generally produced for playback by disc jockeys who create seamless selections of tracks, called a mix by segueing from one recording to another. EDM producers also perform their music live in a concert or festival setting in what is sometimes called a live PA. in Europe, EDM is more commonly called 'dance music', or simply 'dance'.in the late 1980s and early 1990s, following the emergence of raving, pirate radios and an upsurge of interest in club culture, EDM achieved widespread mainstream popularity in Europe. in the United States at that time, acceptance of dance culture was not universal; although both electro and Chicago house music were influential both in Europe and the United States, mainstream media outlets and the record industry remained openly hostile to it. There was also a perceived association between EDM and drug culture, which led governments at state and city level to enact laws and policies intended to halt the spread of rave culture.Subsequently, in the new millennium, the popularity of EDM increased globally, largely in Australia and the United States. By the early 2010s, the term \"electronic dance music\" and the initialism \"EDM\" was being pushed by the American music industry and music press in an effort to rebrand American rave culture. Despite the industry's attempt to create a specific EDM brand, the initialism remains in use as an umbrella term for multiple genres, including house, techno, trance, drum and bass, dubstep, trap and footwork as well as their respective subgenres.\n",
      "head aliases: ['Electronic Dance Music', 'List of Electronic dance music festivals', '1990s edm', 'Electronic dance', 'Electronemo', 'Bedroom producer', 'bedroom producer', 'electronic dance', 'Dance music (electronic)', 'edm (electronic dance music)', 'edm music', 'electronic indie', 'Electronic Dance', 'Ghost production', 'dance music (electronic)', 'EDM', 'Dance music (popular)', 'Ghost producer', 'post-edm', 'ghost-production', 'Ghost-production', 'When Will The Bass Drop?', 'christian remix culture', 'lappop', 'ghost-producer', 'ghost production', 'EDM music', 'dance music (popular)', 'música dance', 'Club music', 'Christian remix culture', 'edm', 'Electronic Dance Music, EDM', 'edm (music)', 'ghost producer', 'electronic dance music', 'baile', 'Ghost-producer', '1990s EDM', 'electronemo', 'when will the bass drop?', 'EDM (music)', 'Post-EDM', 'Electronic Dance music', 'Electronic dance music', 'EDM (electronic dance music)', 'Lappop', 'Electronic indie', 'Club Music', 'club music', 'electronic dance music, edm']\n"
     ]
    }
   ],
   "source": [
    "trpls = triples[head]\n",
    "print(f\"head description: {descs[head]}\")\n",
    "print(f\"head aliases: {aliases[head]}\")\n",
    "for h,r,t in trpls:\n",
    "    print(f\"r: {r}, t: {t}\")\n",
    "    print(f\"relation aliases: {relations[r]}\")\n",
    "    print(f\"tail description: {descs[t]}\")\n",
    "    print(f\"tail aliases: {aliases[t]}\")\n",
    "    print(\"\\n\\n\")"
   ]
  },
  {
   "cell_type": "code",
   "execution_count": 61,
   "metadata": {},
   "outputs": [
    {
     "name": "stdout",
     "output_type": "stream",
     "text": [
      "17\n",
      "['[CLS]', 'Troy', 'Evans', '(', 'born', 'February', '16', ',', '1948', ')', 'is', 'an', 'American', 'actor', 'who', '…', '[SEP]']\n"
     ]
    },
    {
     "data": {
      "text/plain": [
       "torch.Size([1, 17])"
      ]
     },
     "execution_count": 61,
     "metadata": {},
     "output_type": "execute_result"
    }
   ],
   "source": [
    "from transformers import BertTokenizerFast\n",
    "\n",
    "# 1) Load the fast tokenizer\n",
    "tokenizer = BertTokenizerFast.from_pretrained('bert-base-cased')\n",
    "\n",
    "sentence = \"Troy Evans (born February 16, 1948) is an American actor who …\"\n",
    "\n",
    "# 2) Tokenize and ask for offset mappings\n",
    "enc = tokenizer(\n",
    "    sentence,\n",
    "    return_offsets_mapping=True,  # gives you char ↔ token spans\n",
    "    padding=False,\n",
    "    truncation=False\n",
    ")\n",
    "\n",
    "# enc is a dict with:\n",
    "# - input_ids:      [101, 1234, 5678, …, 102]\n",
    "# - token_type_ids: [0,   0,    0,  …,  0]\n",
    "# - attention_mask: [1,   1,    1,  …,  1]\n",
    "# - offset_mapping: [(0,0),(0,4),(4,5), …, (len, len)]\n",
    "#   one tuple per token, giving the (start_char, end_char) in the original string\n",
    "\n",
    "tokens = tokenizer.convert_ids_to_tokens(enc['input_ids'])\n",
    "\n",
    "print(len(tokens))\n",
    "print(tokens)\n",
    "start_probs = torch.tensor([[.1,.9,.1,.1,.1,.1,.1,.1,.1,.1,.1,.1,.1,.1,.1,.1,.1]])\n",
    "end_probs = torch.tensor([[.1,.1,.9,.1,.1,.1,.1,.1,.1,.1,.1,.1,.1,.1,.1,.1,.1]])\n",
    "start_probs.shape\n",
    "\n"
   ]
  },
  {
   "cell_type": "code",
   "execution_count": 41,
   "metadata": {},
   "outputs": [],
   "source": [
    "from torch.nn.utils.rnn import pad_sequence\n",
    "\n",
    "def extract_first_embeddings(token_embs, start_probs, end_probs, max_len, threshold=.6):\n",
    "    \"\"\"\n",
    "        args:\n",
    "            token_embs: sentence embeddings with shape (batch_size, seq_length, hidden_size)\n",
    "            start_probs: probabilities that an entity is a start (start of subject for forward, start of object for backward) with shape (batch_size, seq_len)\n",
    "            end_probs: probabilities that an entity is an end (end of subject for forward, end of object for backward) with shape (batch_size, seq_len)\n",
    "            threshold: threshold that if the probability > threshold, then it is considered start or end of starting entity\n",
    "        returns:\n",
    "            padded_embs: these are padded embeddings of all subjects or objects with shape (B, max_ents, H)\n",
    "            mask_embs: mask to show the padded embs (0 for padding)\n",
    "            start_idxs:  list (len=batch_size) where each item is a list of tuples, each tuple (start_idx, end_idx) of the entities\n",
    "    \"\"\"\n",
    "    batch_size, seq_len, hidden_size = token_embs.shape\n",
    "\n",
    "    start_mask = start_probs > threshold\n",
    "    end_mask = end_probs > threshold\n",
    "\n",
    "    start_idxs = []\n",
    "    all_ents_embs = []\n",
    "    all_masks = []\n",
    "\n",
    "    for sent_idx in range(batch_size):\n",
    "        start_indices = torch.nonzero(start_mask[sent_idx], as_tuple=False).squeeze(-1)\n",
    "        end_indices = torch.nonzero(end_mask[sent_idx], as_tuple=False).squeeze(-1)\n",
    "\n",
    "        ents_embs = []\n",
    "        idxs_sentence = []\n",
    "        used_ends = set()\n",
    "\n",
    "        for start_idx in start_indices.tolist():\n",
    "            candidates = [end_idx for end_idx in end_indices.tolist() if end_idx >= start_idx and end_idx not in used_ends]\n",
    "            if candidates:\n",
    "                end_idx = candidates[0]\n",
    "                used_ends.add(end_idx)\n",
    "                idxs_sentence.append((start_idx, end_idx))\n",
    "\n",
    "                # Compute average embedding\n",
    "                ent_emb = (token_embs[sent_idx, start_idx] + token_embs[sent_idx, end_idx]) / 2.0\n",
    "                ents_embs.append(ent_emb)\n",
    "\n",
    "        start_idxs.append(idxs_sentence)\n",
    "\n",
    "        if ents_embs:\n",
    "            ent_tensor = torch.stack(ents_embs)\n",
    "            all_ents_embs.append(ent_tensor)\n",
    "            all_masks.append(torch.ones(ent_tensor.size(0), dtype=torch.bool, device=token_embs.device))\n",
    "        else:\n",
    "            all_ents_embs.append(torch.empty(0, hidden_size, device=token_embs.device))\n",
    "            all_masks.append(torch.zeros(0, dtype=torch.bool, device=token_embs.device))\n",
    "\n",
    "    # Pad sequences\n",
    "    padded_embs = pad_sequence(all_ents_embs, batch_first=True, padding_value=0.0)\n",
    "    mask_embs = pad_sequence(all_masks, batch_first=True, padding_value=False)\n",
    "\n",
    "    if max_len is not None:\n",
    "        # Pad or truncate embeddings\n",
    "        curr_len = padded_embs.size(1)\n",
    "        if curr_len < max_len:\n",
    "            pad_size = max_len - curr_len\n",
    "            padding = torch.zeros(padded_embs.size(0), pad_size, padded_embs.size(2), device=padded_embs.device)\n",
    "            padded_embs = torch.cat([padded_embs, padding], dim=1)\n",
    "\n",
    "            mask_padding = torch.zeros(mask_embs.size(0), pad_size, dtype=torch.bool, device=mask_embs.device)\n",
    "            mask_embs = torch.cat([mask_embs, mask_padding], dim=1)\n",
    "\n",
    "        elif curr_len > max_len:\n",
    "            padded_embs = padded_embs[:, :max_len, :]\n",
    "            mask_embs = mask_embs[:, :max_len]\n",
    "\n",
    "    return padded_embs, mask_embs, start_idxs\n"
   ]
  },
  {
   "cell_type": "code",
   "execution_count": 42,
   "metadata": {},
   "outputs": [],
   "source": [
    "\n",
    "\n",
    "def get_h_gs(sentences, tokenizer, model, max_length):\n",
    "    encoded = tokenizer(sentences, padding=True, truncation=True, return_tensors=\"pt\", max_length=max_length)\n",
    "    input_ids = encoded['input_ids']\n",
    "    attention_mask = encoded['attention_mask']\n",
    "    \n",
    "    with torch.no_grad():\n",
    "        bert_output = model(input_ids=input_ids, attention_mask=attention_mask)\n",
    "        embeddings = bert_output.last_hidden_state # (batch_size, seq_len ,hidden_size)\n",
    "\n",
    "    mask_expanded = attention_mask.unsqueeze(-1).expand(embeddings.size())\n",
    "\n",
    "    masked_embeddings = embeddings * mask_expanded\n",
    "\n",
    "    sum_embeddings = masked_embeddings.sum(dim=1)  # [batch, hidden_size]\n",
    "    token_counts = mask_expanded.sum(dim=1)  # [batch, 1]\n",
    "    token_counts = token_counts.clamp(min=1)\n",
    "    return sum_embeddings / token_counts, embeddings\n",
    "\n"
   ]
  },
  {
   "cell_type": "code",
   "execution_count": 45,
   "metadata": {},
   "outputs": [
    {
     "name": "stdout",
     "output_type": "stream",
     "text": [
      "self embs shape: torch.Size([1, 17, 768])\n"
     ]
    }
   ],
   "source": [
    "from transformers import BertModel, BertTokenizer\n",
    "\n",
    "tokenizer =BertTokenizer.from_pretrained('bert-base-cased')\n",
    "model = BertModel.from_pretrained('bert-base-cased')\n",
    "\n",
    "_, embs = get_h_gs(sentence, tokenizer, model, max_length=128  )  #  h_gs (batch_size, hidden_size), embs (batch_size, seq_len, hidden_size)\n",
    "\n",
    "\n",
    "print(f\"self embs shape: {embs.shape}\")"
   ]
  },
  {
   "cell_type": "code",
   "execution_count": 62,
   "metadata": {},
   "outputs": [
    {
     "data": {
      "text/plain": [
       "[[(1, 2)]]"
      ]
     },
     "execution_count": 62,
     "metadata": {},
     "output_type": "execute_result"
    }
   ],
   "source": [
    "_,_, subj_idxs = extract_first_embeddings(embs,start_probs, end_probs, 128, threshold=.5)\n",
    "subj_idxs"
   ]
  },
  {
   "cell_type": "code",
   "execution_count": 74,
   "metadata": {},
   "outputs": [
    {
     "ename": "AttributeError",
     "evalue": "'list' object has no attribute 'join'",
     "output_type": "error",
     "traceback": [
      "\u001b[1;31m---------------------------------------------------------------------------\u001b[0m",
      "\u001b[1;31mAttributeError\u001b[0m                            Traceback (most recent call last)",
      "Cell \u001b[1;32mIn[74], line 16\u001b[0m\n\u001b[0;32m     13\u001b[0m     kp\u001b[38;5;241m.\u001b[39madd_keyword(alias)\n\u001b[0;32m     15\u001b[0m \u001b[38;5;66;03m# 2) extract all matches with their char spans\u001b[39;00m\n\u001b[1;32m---> 16\u001b[0m matches \u001b[38;5;241m=\u001b[39m kp\u001b[38;5;241m.\u001b[39mextract_keywords(\u001b[43msentence\u001b[49m\u001b[38;5;241;43m.\u001b[39;49m\u001b[43mjoin\u001b[49m(\u001b[38;5;124m\"\u001b[39m\u001b[38;5;124m \u001b[39m\u001b[38;5;124m\"\u001b[39m), span_info\u001b[38;5;241m=\u001b[39m\u001b[38;5;28;01mTrue\u001b[39;00m)\n\u001b[0;32m     17\u001b[0m \u001b[38;5;66;03m# matches is a list of tuples: [(keyword, start_char, end_char), …]\u001b[39;00m\n\u001b[0;32m     19\u001b[0m matches\n",
      "\u001b[1;31mAttributeError\u001b[0m: 'list' object has no attribute 'join'"
     ]
    }
   ],
   "source": [
    "# pip install flashtext\n",
    "from flashtext import KeywordProcessor\n",
    "\n",
    "tail_aliases = [\n",
    "  'Television actor', 'film or stage actor', 'Theatre actress', \n",
    "  'film actor', 'Actors and actresses', 'actor & actress', \n",
    "  'Television star', 'Film Actor', \"actors\", \"actor\"\n",
    "]\n",
    "sentence = [\"bomba\",\"telivision\", \"actor\", \"english\", \"and\"]\n",
    "# 1) build your keyword‐processor\n",
    "kp = KeywordProcessor(case_sensitive=False, )\n",
    "for alias in tail_aliases:\n",
    "    kp.add_keyword(alias)\n",
    "\n",
    "# 2) extract all matches with their char spans\n",
    "matches = kp.extract_keywords(sentence, span_info=True)\n",
    "# matches is a list of tuples: [(keyword, start_char, end_char), …]\n",
    "\n",
    "matches"
   ]
  },
  {
   "cell_type": "code",
   "execution_count": null,
   "metadata": {},
   "outputs": [],
   "source": []
  }
 ],
 "metadata": {
  "kernelspec": {
   "display_name": "myenv",
   "language": "python",
   "name": "python3"
  },
  "language_info": {
   "codemirror_mode": {
    "name": "ipython",
    "version": 3
   },
   "file_extension": ".py",
   "mimetype": "text/x-python",
   "name": "python",
   "nbconvert_exporter": "python",
   "pygments_lexer": "ipython3",
   "version": "3.9.9"
  }
 },
 "nbformat": 4,
 "nbformat_minor": 2
}
