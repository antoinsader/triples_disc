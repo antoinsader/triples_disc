{
 "cells": [
  {
   "cell_type": "code",
   "execution_count": 1,
   "metadata": {},
   "outputs": [],
   "source": [
    "from collections import defaultdict\n",
    "from tqdm import tqdm\n",
    "\n",
    "\n",
    "\n",
    "def get_aliases(fp):\n",
    "    dic = defaultdict(list)\n",
    "    with open(fp, \"r\", encoding=\"utf-8\") as f:\n",
    "        l_ns = sum(1 for _ in f)\n",
    "        f.seek(0)\n",
    "        for line in tqdm(f, total=l_ns, desc=\"reading aliases\"):\n",
    "            try:\n",
    "                split_line = line.strip().split(\"\\t\")\n",
    "                entity_id = str(split_line[0])\n",
    "                entity_name = str(split_line[1])\n",
    "                aliases = split_line[2:]\n",
    "                dic[entity_id].append(entity_name)\n",
    "                for al in aliases:\n",
    "                    dic[entity_id].append(str(al))\n",
    "\n",
    "            except ValueError as e:\n",
    "                print(f\"The line has not enough arguments: {line.strip()}\")\n",
    "                break\n",
    "    return dic"
   ]
  },
  {
   "cell_type": "code",
   "execution_count": 2,
   "metadata": {},
   "outputs": [
    {
     "name": "stderr",
     "output_type": "stream",
     "text": [
      "reading aliases: 100%|██████████| 4813491/4813491 [00:22<00:00, 213939.33it/s]\n"
     ]
    }
   ],
   "source": [
    "\n",
    "root = \".\"\n",
    "RAW_FOLDER = f\"{root}/data/raw\"\n",
    "\n",
    "RAW_TXT_FILES ={\n",
    "    \"descriptions\": f\"{RAW_FOLDER}/wikidata5m_text.txt\",\n",
    "    \"aliases\": f\"{RAW_FOLDER}/wikidata5m_entity.txt\",\n",
    "    \"relations\": f\"{RAW_FOLDER}/wikidata5m_relation.txt\",\n",
    "    \"triples\": f\"{RAW_FOLDER}/wikidata5m_transductive_train.txt\",\n",
    "}\n",
    "aliases_raw_fp = RAW_TXT_FILES[\"aliases\"]\n",
    "\n",
    "aliases_dict_all = get_aliases(aliases_raw_fp)\n"
   ]
  },
  {
   "cell_type": "code",
   "execution_count": 4,
   "metadata": {},
   "outputs": [],
   "source": [
    "aliases_dict_all\n"
   ]
  }
 ],
 "metadata": {
  "kernelspec": {
   "display_name": "myenv",
   "language": "python",
   "name": "python3"
  },
  "language_info": {
   "codemirror_mode": {
    "name": "ipython",
    "version": 3
   },
   "file_extension": ".py",
   "mimetype": "text/x-python",
   "name": "python",
   "nbconvert_exporter": "python",
   "pygments_lexer": "ipython3",
   "version": "3.9.9"
  }
 },
 "nbformat": 4,
 "nbformat_minor": 2
}
