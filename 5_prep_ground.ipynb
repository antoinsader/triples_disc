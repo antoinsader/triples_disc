{
 "cells": [
  {
   "cell_type": "code",
   "execution_count": 6,
   "metadata": {},
   "outputs": [],
   "source": [
    "from Data import get_min_descriptionsNorm_triples_relations, PKLS_FILES, HELPER_FILES\n",
    "from utils.utils import read_cached_array, cache_array\n",
    "import re "
   ]
  },
  {
   "cell_type": "code",
   "execution_count": 117,
   "metadata": {},
   "outputs": [],
   "source": [
    "\n",
    "k = 10\n",
    "descs, triples, relations, aliases = get_min_descriptionsNorm_triples_relations(k)"
   ]
  },
  {
   "cell_type": "code",
   "execution_count": 83,
   "metadata": {},
   "outputs": [],
   "source": [
    "als_ids = list(aliases.keys())\n",
    "als_embs = torch.tensor([get_bert_embedding(als_lst) for desc_id, als_lst in aliases.items()])\n"
   ]
  },
  {
   "cell_type": "code",
   "execution_count": 84,
   "metadata": {},
   "outputs": [],
   "source": [
    "rel_ids = list(relations.keys())\n",
    "rel_embs = torch.tensor([get_bert_embedding(rel_lst) for  rel_lst in relations.values()])\n"
   ]
  },
  {
   "cell_type": "code",
   "execution_count": 102,
   "metadata": {},
   "outputs": [
    {
     "name": "stdout",
     "output_type": "stream",
     "text": [
      "Cosine Similarity: 0.4120106101036072\n"
     ]
    }
   ],
   "source": [
    "from sklearn.metrics.pairwise import cosine_similarity\n",
    "sent_emb = get_cls_embedding(\"born in\")\n",
    "sentences_emb = get_bert_embedding([\n",
    "    'place of birth',\n",
    "    'birthplace',\n",
    "    'born in',\n",
    "    'POB',\n",
    "    'birth place',\n",
    "    'location born',\n",
    "    'born at',\n",
    "    'birth location',\n",
    "    'location of birth',\n",
    "    'birth city'\n",
    "])\n",
    "similarity = cosine_similarity(sent_emb.reshape(1, -1), sentences_emb.reshape(1, -1))\n",
    "\n",
    "print(f\"Cosine Similarity: {similarity[0][0]}\")"
   ]
  },
  {
   "cell_type": "code",
   "execution_count": 122,
   "metadata": {},
   "outputs": [
    {
     "data": {
      "text/plain": [
       "{('Q1650748', 'P19', 'Q34370'),\n",
       " ('Q430667', 'P1412', 'Q9027'),\n",
       " ('Q4667449', 'P364', 'Q1568'),\n",
       " ('Q556064', 'P19', 'Q189602'),\n",
       " ('Q590978', 'P1412', 'Q1321'),\n",
       " ('Q590978', 'P19', 'Q2807')}"
      ]
     },
     "execution_count": 122,
     "metadata": {},
     "output_type": "execute_result"
    }
   ],
   "source": [
    "tt = {(h,r,t) for tr in triples.values() for h,r,t in tr if r in ['P364', 'P19', 'P1412'] }\n",
    "tt"
   ]
  },
  {
   "cell_type": "code",
   "execution_count": 121,
   "metadata": {},
   "outputs": [
    {
     "data": {
      "text/plain": [
       "{'Q430667': \"Astrid Sampe (27 May 1909–1 January 2002) was a Swedish textile designer who for a large part of her professional life was affiliated with the textile department at Nordiska Kompaniet but also worked for several other textile producers.Sampe studied at Konstfack in Stockholm and later at the Royal College of Art in London. in 1935, she started working as a designer for Nordiska Kompaniet. in 1937 she became head of Nordiska Kompaniet's textile design department (Textilkammaren) and remained so until 1971. She produced a number of influential designs and also connected many successful designers, architects and artists to Nordiska Kompaniet's textile department. Among these people are Danish designer Arne Jacobsen and Swedish designers Viola Grasten and Stig Lindberg. When the textile department closed in 1971, Astrid Sampe retired from Nordiska Kompaniet and established her own studio in Stockholm.She was very successful at the World Fairs in Paris 1937 and in New york 1939. For the exhibition in New york she worked on the design of the Swedish Pavilion together with the architect Sven Markelius.Astrid Sampe was an innovative designer who designed modern textiles for industrial production while still preserving and extending the traditions of Nordic textile design. She was the first designer in Sweden to experiment with fibreglass cloth and to use data-based or computer-generated patterns. in 1955 she produced several designs for domestic linens with geometric patterns and folk-inspired motifs that became a huge success. Astrid Sampe designed products for a number of Swedish textile companies such as Kasthall and Almedahls, and her designs include Liljerand, Liljeruta, and Versailles. She also designed for Knoll international in New york and Donald Brothers in Dundee. Some of her textiles are still in production. in 1948 Astrid Sampe co-wrote the book Textiles illustrated (in Swedish: Textil bilderbok) with Vera Diurson. in 1949, she was elected an honorary member of the Royal Designers for industry in London. She was awarded a Gold Medal at the 1954 Milan Triennale, and a Silver Medal at the 1960 Triennale. in 1956 she received the Gregor Paulsson Trophy.\",\n",
       " 'Q1650748': 'Michiel \"M.C.A.\" van den Bos (born 23 May 1975) is a Dutch musician who composes primarily for Epic Games and Triumph Studios. He began composing on the Commodore 64 and Amiga before making the transition to composing professional soundtracks for video games such as Unreal, Unreal Tournament, Deus Ex, and the Overlord series. His most recent project is the soundtrack of Age of Wonders iii.According to an interview, his influences are LTJ Bukem, John Williams, Jerry Goldsmith, Martin Galway, Underworld, Rob Hubbard, Jeroen Tel, Ben Daglish, Carcass, At the Gates, insomnium, PFM and Artemis.Van den Bos is also an active indie/alternative DJ.',\n",
       " 'Q556064': 'Troy Evans (born February 16, 1948) is an American actor who is perhaps best known for his role as Desk Clerk Francis \"Frank\" Martin in the television drama series ER. He has also appeared in the movies Tiger Cruise (Disney Channel original movie), Ace Ventura: Pet Detective, Under Siege, Teen Wolf, Kuffs, Fear and Loathing in Las Vegas, Black Dahlia, Demolition Man, The Frighteners, and View From the Top among others. He voiced Thistle Jinn in the 2013 animated adventure film Epic.He served with the 25th infantry Division in Vietnam, and was later cast as SFC Bob Pepper in the TV series China Beach which was set during the Vietnam War.',\n",
       " 'Q590978': 'Daniel Martin Garcia (born 19 February 1977) is a Spanish singer. He was the vocalist of the Spanish pop punk band El Canto del Loco (ECDL).',\n",
       " 'Q4667449': 'Abhinetri (lit. Actress) is a 1970 Hindi film produced and directed by Subodh Mukherjee. The film stars Shashi Kapoor, Hema Malini, Nirupa Roy, Nazima, Asit Sen and Deb Mukherjee. The music composed by Laxmikant Pyarelal includes the song \"Sa Re Ga Ma Pa\" by Lata Mangeshkar and Kishore Kumar, besides the hit Lata Mangeshkar solo \"O Ghata Sanwari\".'}"
      ]
     },
     "execution_count": 121,
     "metadata": {},
     "output_type": "execute_result"
    }
   ],
   "source": [
    "{k:v for k,v in descs.items() if k in ['Q556064', 'Q430667', 'Q1650748', 'Q590978', 'Q590978', 'Q4667449']}"
   ]
  },
  {
   "cell_type": "code",
   "execution_count": 123,
   "metadata": {},
   "outputs": [
    {
     "data": {
      "text/plain": [
       "{'P364': ['original language of film or TV show',\n",
       "  'original language',\n",
       "  'language of the original work',\n",
       "  'created on language',\n",
       "  'language'],\n",
       " 'P19': ['place of birth',\n",
       "  'birthplace',\n",
       "  'born in',\n",
       "  'POB',\n",
       "  'birth place',\n",
       "  'location born',\n",
       "  'born at',\n",
       "  'birth location',\n",
       "  'location of birth',\n",
       "  'birth city'],\n",
       " 'P1412': ['languages spoken, written or signed',\n",
       "  'languages spoken',\n",
       "  'language spoken',\n",
       "  'language of expression',\n",
       "  'languages of expression',\n",
       "  'languages signed',\n",
       "  'language signed',\n",
       "  'language written',\n",
       "  'language read',\n",
       "  'language used',\n",
       "  'language',\n",
       "  'speaks language',\n",
       "  'writes language',\n",
       "  'signs language',\n",
       "  'uses language',\n",
       "  'wrote language',\n",
       "  'spoke language',\n",
       "  'used language',\n",
       "  'signed language',\n",
       "  'second language',\n",
       "  'languages spoken, written, or signed',\n",
       "  'language(s) spoken, written or signed']}"
      ]
     },
     "execution_count": 123,
     "metadata": {},
     "output_type": "execute_result"
    }
   ],
   "source": [
    "{k:v for k,v in relations.items() if k in ['P364', 'P19', 'P1412']}"
   ]
  },
  {
   "cell_type": "code",
   "execution_count": 109,
   "metadata": {},
   "outputs": [
    {
     "name": "stdout",
     "output_type": "stream",
     "text": [
      "Max Similarity to cluster: 1.0000\n",
      "Mean Similarity to cluster: 0.6908\n",
      "Similarity with 'place of birth': 0.7179\n",
      "Similarity with 'birthplace': 0.7492\n",
      "Similarity with 'born in': 1.0000\n",
      "Similarity with 'POB': 0.1991\n",
      "Similarity with 'birth place': 0.6774\n",
      "Similarity with 'location born': 0.7714\n",
      "Similarity with 'born at': 0.8087\n",
      "Similarity with 'birth location': 0.6856\n",
      "Similarity with 'location of birth': 0.6695\n",
      "Similarity with 'birth city': 0.6289\n"
     ]
    }
   ],
   "source": [
    "from sentence_transformers import SentenceTransformer, util\n",
    "\n",
    "# Load model\n",
    "model = SentenceTransformer('all-MiniLM-L6-v2')\n",
    "\n",
    "# Your cluster of similar terms\n",
    "birth_location_cluster = [\n",
    "    'place of birth',\n",
    "    'birthplace',\n",
    "    'born in',\n",
    "    'POB',\n",
    "    'birth place',\n",
    "    'location born',\n",
    "    'born at',\n",
    "    'birth location',\n",
    "    'location of birth',\n",
    "    'birth city'\n",
    "]\n",
    "\n",
    "# Your input string\n",
    "input_phrase = \"born in\"\n",
    "\n",
    "# Compute embeddings\n",
    "cluster_embeddings = model.encode(birth_location_cluster)\n",
    "input_embedding = model.encode(input_phrase)\n",
    "\n",
    "# Compute cosine similarities\n",
    "cosine_scores = util.cos_sim(input_embedding, cluster_embeddings)\n",
    "\n",
    "# Option 1: Max similarity (recommended for this case)\n",
    "max_similarity = cosine_scores.max().item()\n",
    "\n",
    "# Option 2: Mean similarity (optional)\n",
    "mean_similarity = cosine_scores.mean().item()\n",
    "\n",
    "print(f\"Max Similarity to cluster: {max_similarity:.4f}\")\n",
    "print(f\"Mean Similarity to cluster: {mean_similarity:.4f}\")\n",
    "\n",
    "# Optional: See all similarities\n",
    "for phrase, score in zip(birth_location_cluster, cosine_scores[0]):\n",
    "    print(f\"Similarity with '{phrase}': {score:.4f}\")\n"
   ]
  },
  {
   "cell_type": "code",
   "execution_count": 86,
   "metadata": {},
   "outputs": [
    {
     "data": {
      "text/plain": [
       "['original language of film or TV show',\n",
       " 'original language',\n",
       " 'language of the original work',\n",
       " 'created on language',\n",
       " 'language']"
      ]
     },
     "execution_count": 86,
     "metadata": {},
     "output_type": "execute_result"
    }
   ],
   "source": [
    "from sklearn.metrics.pairwise import cosine_similarity\n",
    "\n",
    "\n",
    "\n",
    "similarity = cosine_similarity(vector1.reshape(1, -1), vector2.reshape(1, -1))\n",
    "\n"
   ]
  },
  {
   "cell_type": "code",
   "execution_count": 66,
   "metadata": {},
   "outputs": [
    {
     "name": "stdout",
     "output_type": "stream",
     "text": [
      "\n",
      " \n",
      "\n",
      "Astrid Sampe (27 May 1909–1 January 2002) was a Swedish textile designer who for a large part of her professional life was affiliated with the textile department at Nordiska Kompaniet but also worked for several other textile producers.Sampe studied at Konstfack in Stockholm and later at the Royal College of Art in London. in 1935, she started working as a designer for Nordiska Kompaniet. in 1937 she became head of Nordiska Kompaniet's textile design department (Textilkammaren) and remained so until 1971. She produced a number of influential designs and also connected many successful designers, architects and artists to Nordiska Kompaniet's textile department. Among these people are Danish designer Arne Jacobsen and Swedish designers Viola Grasten and Stig Lindberg. When the textile department closed in 1971, Astrid Sampe retired from Nordiska Kompaniet and established her own studio in Stockholm.She was very successful at the World Fairs in Paris 1937 and in New york 1939. For the exhibition in New york she worked on the design of the Swedish Pavilion together with the architect Sven Markelius.Astrid Sampe was an innovative designer who designed modern textiles for industrial production while still preserving and extending the traditions of Nordic textile design. She was the first designer in Sweden to experiment with fibreglass cloth and to use data-based or computer-generated patterns. in 1955 she produced several designs for domestic linens with geometric patterns and folk-inspired motifs that became a huge success. Astrid Sampe designed products for a number of Swedish textile companies such as Kasthall and Almedahls, and her designs include Liljerand, Liljeruta, and Versailles. She also designed for Knoll international in New york and Donald Brothers in Dundee. Some of her textiles are still in production. in 1948 Astrid Sampe co-wrote the book Textiles illustrated (in Swedish: Textil bilderbok) with Vera Diurson. in 1949, she was elected an honorary member of the Royal Designers for industry in London. She was awarded a Gold Medal at the 1954 Milan Triennale, and a Silver Medal at the 1960 Triennale. in 1956 she received the Gregor Paulsson Trophy.\n",
      "relation aliases\n",
      "member of\n",
      "aliases for tail: Q5\n",
      "people\n",
      "\n",
      " \n",
      "\n",
      "Astrid Sampe (27 May 1909–1 January 2002) was a Swedish textile designer who for a large part of her professional life was affiliated with the textile department at Nordiska Kompaniet but also worked for several other textile producers.Sampe studied at Konstfack in Stockholm and later at the Royal College of Art in London. in 1935, she started working as a designer for Nordiska Kompaniet. in 1937 she became head of Nordiska Kompaniet's textile design department (Textilkammaren) and remained so until 1971. She produced a number of influential designs and also connected many successful designers, architects and artists to Nordiska Kompaniet's textile department. Among these people are Danish designer Arne Jacobsen and Swedish designers Viola Grasten and Stig Lindberg. When the textile department closed in 1971, Astrid Sampe retired from Nordiska Kompaniet and established her own studio in Stockholm.She was very successful at the World Fairs in Paris 1937 and in New york 1939. For the exhibition in New york she worked on the design of the Swedish Pavilion together with the architect Sven Markelius.Astrid Sampe was an innovative designer who designed modern textiles for industrial production while still preserving and extending the traditions of Nordic textile design. She was the first designer in Sweden to experiment with fibreglass cloth and to use data-based or computer-generated patterns. in 1955 she produced several designs for domestic linens with geometric patterns and folk-inspired motifs that became a huge success. Astrid Sampe designed products for a number of Swedish textile companies such as Kasthall and Almedahls, and her designs include Liljerand, Liljeruta, and Versailles. She also designed for Knoll international in New york and Donald Brothers in Dundee. Some of her textiles are still in production. in 1948 Astrid Sampe co-wrote the book Textiles illustrated (in Swedish: Textil bilderbok) with Vera Diurson. in 1949, she was elected an honorary member of the Royal Designers for industry in London. She was awarded a Gold Medal at the 1954 Milan Triennale, and a Silver Medal at the 1960 Triennale. in 1956 she received the Gregor Paulsson Trophy.\n",
      "relation aliases\n",
      "studied at\n",
      "aliases for tail: Q1753535\n",
      "Royal College of Art\n",
      "\n",
      " \n",
      "\n",
      "Astrid Sampe (27 May 1909–1 January 2002) was a Swedish textile designer who for a large part of her professional life was affiliated with the textile department at Nordiska Kompaniet but also worked for several other textile producers.Sampe studied at Konstfack in Stockholm and later at the Royal College of Art in London. in 1935, she started working as a designer for Nordiska Kompaniet. in 1937 she became head of Nordiska Kompaniet's textile design department (Textilkammaren) and remained so until 1971. She produced a number of influential designs and also connected many successful designers, architects and artists to Nordiska Kompaniet's textile department. Among these people are Danish designer Arne Jacobsen and Swedish designers Viola Grasten and Stig Lindberg. When the textile department closed in 1971, Astrid Sampe retired from Nordiska Kompaniet and established her own studio in Stockholm.She was very successful at the World Fairs in Paris 1937 and in New york 1939. For the exhibition in New york she worked on the design of the Swedish Pavilion together with the architect Sven Markelius.Astrid Sampe was an innovative designer who designed modern textiles for industrial production while still preserving and extending the traditions of Nordic textile design. She was the first designer in Sweden to experiment with fibreglass cloth and to use data-based or computer-generated patterns. in 1955 she produced several designs for domestic linens with geometric patterns and folk-inspired motifs that became a huge success. Astrid Sampe designed products for a number of Swedish textile companies such as Kasthall and Almedahls, and her designs include Liljerand, Liljeruta, and Versailles. She also designed for Knoll international in New york and Donald Brothers in Dundee. Some of her textiles are still in production. in 1948 Astrid Sampe co-wrote the book Textiles illustrated (in Swedish: Textil bilderbok) with Vera Diurson. in 1949, she was elected an honorary member of the Royal Designers for industry in London. She was awarded a Gold Medal at the 1954 Milan Triennale, and a Silver Medal at the 1960 Triennale. in 1956 she received the Gregor Paulsson Trophy.\n",
      "relation aliases\n",
      "profession\n",
      "aliases for tail: Q5322166\n",
      "designer\n",
      "\n",
      " \n",
      "\n",
      "Michiel \"M.C.A.\" van den Bos (born 23 May 1975) is a Dutch musician who composes primarily for Epic Games and Triumph Studios. He began composing on the Commodore 64 and Amiga before making the transition to composing professional soundtracks for video games such as Unreal, Unreal Tournament, Deus Ex, and the Overlord series. His most recent project is the soundtrack of Age of Wonders iii.According to an interview, his influences are LTJ Bukem, John Williams, Jerry Goldsmith, Martin Galway, Underworld, Rob Hubbard, Jeroen Tel, Ben Daglish, Carcass, At the Gates, insomnium, PFM and Artemis.Van den Bos is also an active indie/alternative DJ.\n",
      "relation aliases\n",
      "profession\n",
      "aliases for tail: Q639669\n",
      "musician\n",
      "\n",
      " \n",
      "\n",
      "Abhinetri (lit. Actress) is a 1970 Hindi film produced and directed by Subodh Mukherjee. The film stars Shashi Kapoor, Hema Malini, Nirupa Roy, Nazima, Asit Sen and Deb Mukherjee. The music composed by Laxmikant Pyarelal includes the song \"Sa Re Ga Ma Pa\" by Lata Mangeshkar and Kishore Kumar, besides the hit Lata Mangeshkar solo \"O Ghata Sanwari\".\n",
      "relation aliases\n",
      "directed by\n",
      "aliases for tail: Q930436\n",
      "Subodh Mukherjee\n"
     ]
    }
   ],
   "source": [
    "desc_key = 'Q590978'\n",
    "desc_text = descs[desc_key] \n",
    "for desc_key, desc_text in descs.items():\n",
    "\n",
    "    d_triples = triples[desc_key]\n",
    "    for h,r,t in d_triples:\n",
    "        rel_found= None\n",
    "        tail_found= None\n",
    "        for relation_als in  relations[r]:\n",
    "            if relation_als in desc_text:\n",
    "                rel_found = relation_als\n",
    "                break \n",
    "        for t_als in aliases[t]:\n",
    "            if t_als in desc_text:\n",
    "                tail_found = t_als\n",
    "                break \n",
    "        if tail_found and rel_found:  \n",
    "            print(\"\\n \\n\")\n",
    "            print(descs[desc_key])\n",
    "            \n",
    "            print(\"relation aliases\")\n",
    "            print(rel_found)\n",
    "            print(f\"aliases for tail: {t}\")\n",
    "            print(tail_found)\n",
    "            \n",
    "    \n",
    "\n"
   ]
  },
  {
   "cell_type": "code",
   "execution_count": 54,
   "metadata": {},
   "outputs": [
    {
     "name": "stdout",
     "output_type": "stream",
     "text": [
      "Q7663716\n",
      "\"System in Blue\" is a song by German music group Systems in Blue, released as promo single in 2005. it was produced by Rolf Kohler, Detlef Wiedeke and Thomas Widrat.it was re-released in 2009 by Akasa Records, containing an extended version produced by Talking System.\n",
      "Q1764745\n",
      "Suastus is a genus of grass skipper butterflies in the family Hesperiidae.\n",
      "Q430667\n",
      "Astrid Sampe (27 May 1909–1 January 2002) was a Swedish textile designer who for a large part of her professional life was affiliated with the textile department at Nordiska Kompaniet but also worked for several other textile producers.Sampe studied at Konstfack in Stockholm and later at the Royal College of Art in London. in 1935, she started working as a designer for Nordiska Kompaniet. in 1937 she became head of Nordiska Kompaniet's textile design department (Textilkammaren) and remained so until 1971. She produced a number of influential designs and also connected many successful designers, architects and artists to Nordiska Kompaniet's textile department. Among these people are Danish designer Arne Jacobsen and Swedish designers Viola Grasten and Stig Lindberg. When the textile department closed in 1971, Astrid Sampe retired from Nordiska Kompaniet and established her own studio in Stockholm.She was very successful at the World Fairs in Paris 1937 and in New york 1939. For the exhibition in New york she worked on the design of the Swedish Pavilion together with the architect Sven Markelius.Astrid Sampe was an innovative designer who designed modern textiles for industrial production while still preserving and extending the traditions of Nordic textile design. She was the first designer in Sweden to experiment with fibreglass cloth and to use data-based or computer-generated patterns. in 1955 she produced several designs for domestic linens with geometric patterns and folk-inspired motifs that became a huge success. Astrid Sampe designed products for a number of Swedish textile companies such as Kasthall and Almedahls, and her designs include Liljerand, Liljeruta, and Versailles. She also designed for Knoll international in New york and Donald Brothers in Dundee. Some of her textiles are still in production. in 1948 Astrid Sampe co-wrote the book Textiles illustrated (in Swedish: Textil bilderbok) with Vera Diurson. in 1949, she was elected an honorary member of the Royal Designers for industry in London. She was awarded a Gold Medal at the 1954 Milan Triennale, and a Silver Medal at the 1960 Triennale. in 1956 she received the Gregor Paulsson Trophy.\n",
      "Q1650748\n",
      "Michiel \"M.C.A.\" van den Bos (born 23 May 1975) is a Dutch musician who composes primarily for Epic Games and Triumph Studios. He began composing on the Commodore 64 and Amiga before making the transition to composing professional soundtracks for video games such as Unreal, Unreal Tournament, Deus Ex, and the Overlord series. His most recent project is the soundtrack of Age of Wonders iii.According to an interview, his influences are LTJ Bukem, John Williams, Jerry Goldsmith, Martin Galway, Underworld, Rob Hubbard, Jeroen Tel, Ben Daglish, Carcass, At the Gates, insomnium, PFM and Artemis.Van den Bos is also an active indie/alternative DJ.\n",
      "Q3939633\n",
      "The 1954-55 NBA season was the Royals seventh season in the NBA.\n",
      "Q556064\n",
      "Troy Evans (born February 16, 1948) is an American actor who is perhaps best known for his role as Desk Clerk Francis \"Frank\" Martin in the television drama series ER. He has also appeared in the movies Tiger Cruise (Disney Channel original movie), Ace Ventura: Pet Detective, Under Siege, Teen Wolf, Kuffs, Fear and Loathing in Las Vegas, Black Dahlia, Demolition Man, The Frighteners, and View From the Top among others. He voiced Thistle Jinn in the 2013 animated adventure film Epic.He served with the 25th infantry Division in Vietnam, and was later cast as SFC Bob Pepper in the TV series China Beach which was set during the Vietnam War.\n",
      "Q17509787\n",
      "The 1968 WCHA Men's ice Hockey Tournament was the 9th conference playoff in league history. The tournament was played between March 5 and March 9, 1968. All games were played at home team campus sites. By being declared as co-champions, both North Dakota and Denver were invited to participate in the 1968 NCAA University Division Men's ice Hockey Tournament.Though not official designations, North Dakota is considered as the East Regional Champion† and Denver as the West Regional Champion‡.\n",
      "Q590978\n",
      "Daniel Martin Garcia (born 19 February 1977) is a Spanish singer. He was the vocalist of the Spanish pop punk band El Canto del Loco (ECDL).\n",
      "Q4434912\n",
      "This is a chronological list of sea-floods that have occurred in the Netherlands. in addition to these there have been hundreds of river floods during the centuries.\n",
      "Q4667449\n",
      "Abhinetri (lit. Actress) is a 1970 Hindi film produced and directed by Subodh Mukherjee. The film stars Shashi Kapoor, Hema Malini, Nirupa Roy, Nazima, Asit Sen and Deb Mukherjee. The music composed by Laxmikant Pyarelal includes the song \"Sa Re Ga Ma Pa\" by Lata Mangeshkar and Kishore Kumar, besides the hit Lata Mangeshkar solo \"O Ghata Sanwari\".\n"
     ]
    }
   ],
   "source": [
    "for desc_key, desc_text in descs.items():\n",
    "    if len(triples[desc_key]) > 0:\n",
    "        print(desc_key)\n",
    "        print(desc_text)\n"
   ]
  },
  {
   "cell_type": "code",
   "execution_count": 49,
   "metadata": {},
   "outputs": [
    {
     "name": "stdout",
     "output_type": "stream",
     "text": [
      "desc_text: \"System in Blue\" is a song by German music group Systems in Blue, released as promo single in 2005. it was produced by Rolf Kohler, Detlef Wiedeke and Thomas Widrat.it was re-released in 2009 by Akasa Records, containing an extended version produced by Talking System.\n",
      "desc_key: Q7663716\n",
      "triples: [('Q7663716', 'P31', 'Q134556'), ('Q7663716', 'P155', 'Q7208240'), ('Q7663716', 'P156', 'Q7458875'), ('Q7663716', 'P175', 'Q143332'), ('Q7663716', 'P264', 'Q2338889')]\n",
      "aliases tail: ['7\"', 'Seven-inch', '7-inch', 'SPs', 'seven-inch', 'single (music)', 'single (radio)', 'digital single', 'single (record)', 'Single (album)', '7-inch record', '45 (record)', 'Single record', 'singles (songs)', 'Single (recording)', 'ld single', 'Single players', 'Internet single', 'Singles (music)', '45 record', '7 inch', 'Digital single', 'physical single', '7-inch vinyl', 'LD single', '7\" vinyl', 'Single (radio)', 'singles (music)', '7\" record', 'single plays', 'single play', '45-rpm record', 'Seven-inch single', 'single (album)', 'Singles (songs)', 'seven-inch single', 'radio single', 'single record', '45rpm single', '7\" Vinyl', '7-inch single', '7\" Single', 'Single (record)', 'DVD Single', 'Physical single', 'Single (song)', 'Music single', '45 Record', 'Radio single', 'Single plays', 'single (recording)', 'internet single', 'single (song)', 'Single (Music)', '7\" single', '7-inch records', 'Single (music)', 'Single play', 'single album', 'single players', 'Single album', '10 inch single', '45 rpm single', '7 inch record', '45 rpm record', '7 inch single', 'seven inch single', 'Seven inch single']\n",
      "aliases tail: ['Point of No Return (Systems in Blue song)', 'Point Of No Return (Systems in Blue song)', 'point of no return (systems in blue song)']\n",
      "aliases tail: ['sexy ann', 'Sexy Ann']\n",
      "aliases tail: ['Detlef Wiedecke', 'detlef wiedecke', 'Detlef Wiedekke', 'detlef wiedekke', 'Systems In Blue', 'systems in blue', 'Systems in Blue']\n",
      "<re.Match object; span=(49, 64), match='Systems in Blue'>\n"
     ]
    }
   ],
   "source": [
    "results = {}\n",
    "for desc_key, desc_text in descs.items():\n",
    "    matches = []\n",
    "    if len(triples[desc_key]) == 0: \n",
    "        continue \n",
    "    print(f\"desc_text: {desc_text}\")\n",
    "    print(f\"desc_key: {desc_key}\")\n",
    "    print(f\"triples: {triples[desc_key]}\")\n",
    "    \n",
    "    for (h,r,t) in triples[desc_key]:\n",
    "        t_aliases = sorted(aliases[t], key=lambda s: len(s.split()))\n",
    "        print(f\"aliases tail: {t_aliases}\")\n",
    "        \n",
    "        \n",
    "        match_found = False\n",
    "        for als, pat in compiled_aliases[t]:\n",
    "            for match in pat.finditer(desc_text):\n",
    "                print(match)\n",
    "                match_found = True\n",
    "                break\n",
    "            break\n",
    "        if match_found:\n",
    "            break\n",
    "        else:\n",
    "            continue\n",
    "    break\n",
    "        "
   ]
  },
  {
   "cell_type": "code",
   "execution_count": 22,
   "metadata": {},
   "outputs": [
    {
     "data": {
      "text/plain": [
       "'etta Footb'"
      ]
     },
     "execution_count": 22,
     "metadata": {},
     "output_type": "execute_result"
    }
   ],
   "source": [
    "d = list(descs.values())[0]\n",
    "d[4:14]\n",
    "\n"
   ]
  },
  {
   "cell_type": "code",
   "execution_count": 8,
   "metadata": {},
   "outputs": [],
   "source": [
    "results = {}\n",
    "for desc_key, desc_text in descs.items():\n",
    "    matches = []\n",
    "    \n",
    "    for (h,r,t) in triples[desc_key]:\n",
    "        print(h)\n",
    "    \n",
    "    \n",
    "    related_questions = relations.get(desc_key, [])\n",
    "    \n",
    "    for related_q in related_questions:\n",
    "        for alias, pattern in compiled_aliases.get(related_q, []):\n",
    "            for match in pattern.finditer(desc_text):\n",
    "                matches.append({\n",
    "                    'related_question': related_q,\n",
    "                    'alias': alias,\n",
    "                    'index': match.start()\n",
    "                })\n",
    "    \n",
    "    results[desc_key] = matches"
   ]
  },
  {
   "cell_type": "code",
   "execution_count": 9,
   "metadata": {},
   "outputs": [
    {
     "name": "stdout",
     "output_type": "stream",
     "text": [
      "For 'Q331589':\n",
      "For 'Q114':\n",
      "For 'Q4875226':\n",
      "For 'Q97':\n",
      "For 'Q30':\n",
      "For 'Q1948':\n",
      "For 'Q239663':\n",
      "For 'Q1173015':\n",
      "For 'Q218':\n",
      "For 'Q4022':\n",
      "For 'Q1289495':\n",
      "For 'Q6092275':\n",
      "For 'Q23397':\n",
      "For 'Q3337356':\n",
      "For 'Q16901071':\n",
      "For 'Q486972':\n",
      "For 'Q15229599':\n",
      "For 'Q6865008':\n",
      "For 'Q937857':\n",
      "For 'Q679572':\n",
      "For 'Q728557':\n",
      "For 'Q225':\n",
      "For 'Q339346':\n",
      "For 'Q5':\n",
      "For 'Q803976':\n",
      "For 'Q188782':\n",
      "For 'Q2736':\n",
      "For 'Q628099':\n",
      "For 'Q5107646':\n",
      "For 'Q233':\n",
      "For 'Q155':\n",
      "For 'Q336286':\n",
      "For 'Q12583':\n",
      "For 'Q19561385':\n",
      "For 'Q5633975':\n",
      "For 'Q10910129':\n",
      "For 'Q16':\n",
      "For 'Q193592':\n",
      "For 'Q1033':\n",
      "For 'Q20710144':\n",
      "For 'Q18002623':\n",
      "For 'Q200061':\n"
     ]
    }
   ],
   "source": [
    "for key, value in results.items():\n",
    "    print(f\"For '{key}':\")\n",
    "    for match in value:\n",
    "        print(f\"  Found alias '{match['alias']}' from '{match['related_question']}' at index {match['index']}\")"
   ]
  },
  {
   "cell_type": "code",
   "execution_count": 5,
   "metadata": {},
   "outputs": [
    {
     "name": "stdout",
     "output_type": "stream",
     "text": [
      "desc head: The Balta is a left tributary of the river Tarnava Mica in Romania. it discharges into the Tarnava Mica in Santamarie.  \n",
      "Q4875226 P31 Q4022\n",
      "Q4875226 P17 Q218\n",
      "desc head: Christopher Chinedu Okoh (born 5 June 1976 in Nigeria) was a Maltese footballer of Nigerian origin, who during his career played as a defender.  \n",
      "Q5107646 P54 Q728557\n",
      "Q5107646 P54 Q1289495\n",
      "Q5107646 P106 Q628099\n",
      "Q5107646 P54 Q331589\n",
      "Q5107646 P54 Q803976\n",
      "Q5107646 P641 Q2736\n",
      "Q5107646 P735 Q339346\n",
      "Q5107646 P31 Q5\n",
      "Q5107646 P54 Q188782\n",
      "Q5107646 P27 Q233\n",
      "Q5107646 P54 Q5633975\n",
      "Q5107646 P106 Q937857\n",
      "Q5107646 P413 Q336286\n",
      "Q5107646 P54 Q3337356\n",
      "Q5107646 P54 Q679572\n",
      "Q5107646 P19 Q1033\n",
      "desc head: Dauphin Lake is located in western Manitoba near the city of Dauphin, Manitoba. The lake covers an area of 201 square miles (520 km2) and has a drainage basin of about 3,420 square miles (8,900 km2). The Mossy River drains the lake into Lake Winnipegosis. The basin is drained by seven major streams and has a total relief of 1,900 feet (580 m). The lake is located within the territory of three rural municipalities; in descending order of area they are the Rural Municipality of Ochre River, the Rural Municipality of Dauphin, and the Rural Municipality of Mossey River.The lake provides wonderful recreational opportunities. Fishing is popular in both winter and summer, many people camp on the lake's shores and there are many cottages.Dauphin Lake was named after the Dauphin of France, heir to the French throne, by Francois de La Verendrye in 1739.  \n",
      "Q1173015 P131 Q1948\n",
      "Q1173015 P31 Q23397\n",
      "Q1173015 P17 Q16\n",
      "desc head: Srboljub Markusevic (Serbian Cyrillic: Србољуб Маркушевић, born 5 May 1936) is a retired yugoslav professional footballer and manager. He spent his whole playing career in FK Sarajevo, going on to manage the Bosnian side on three separate occasions. He also managed FK Buducnost Podgorica.  \n",
      "Q19561385 P54 Q239663\n",
      "Q19561385 P27 Q225\n",
      "Q19561385 P413 Q193592\n",
      "Q19561385 P106 Q628099\n",
      "Q19561385 P106 Q937857\n",
      "Q19561385 P19 Q200061\n",
      "Q19561385 P31 Q5\n",
      "Q19561385 P641 Q2736\n",
      "desc head: Jipe is a settlement in Kenya's Lamu County.  \n",
      "Q15229599 P31 Q486972\n",
      "Q15229599 P17 Q114\n",
      "desc head: The itabapoana is a river forming the border between Espirito Santo and Rio de Janeiro states in eastern Brazil.  \n",
      "Q6092275 P31 Q4022\n",
      "Q6092275 P403 Q97\n",
      "Q6092275 P17 Q155\n",
      "desc head: Patrick Henry Ray (May 8, 1842 in Waukesha County, Wisconsin – 1911), was a brigadier general in the United States Army. His father, Adam E. Ray, was a member of the Wisconsin State Assembly. An uncle, George Augustus Ray, was also a member. On April 22, 1889, Ray married Ada Blackman.  \n",
      "Q20710144 P735 Q18002623\n",
      "Q20710144 P27 Q30\n",
      "Q20710144 P607 Q12583\n",
      "Q20710144 P31 Q5\n"
     ]
    }
   ],
   "source": [
    "for h, trpl_lst in triples.items():\n",
    "    print(f\"desc head: {descs[h]}  \")\n",
    "    for _,r,t in trpl_lst:\n",
    "        print(h ,  r, t)\n",
    "        "
   ]
  }
 ],
 "metadata": {
  "kernelspec": {
   "display_name": "myenv",
   "language": "python",
   "name": "python3"
  },
  "language_info": {
   "codemirror_mode": {
    "name": "ipython",
    "version": 3
   },
   "file_extension": ".py",
   "mimetype": "text/x-python",
   "name": "python",
   "nbconvert_exporter": "python",
   "pygments_lexer": "ipython3",
   "version": "3.9.9"
  }
 },
 "nbformat": 4,
 "nbformat_minor": 2
}
